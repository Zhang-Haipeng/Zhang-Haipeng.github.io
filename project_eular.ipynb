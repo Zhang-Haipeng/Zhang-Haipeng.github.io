{
 "cells": [
  {
   "cell_type": "markdown",
   "metadata": {},
   "source": [
    "# Problem 2"
   ]
  },
  {
   "cell_type": "code",
   "execution_count": 1,
   "metadata": {},
   "outputs": [
    {
     "data": {
      "text/plain": [
       "4613732"
      ]
     },
     "execution_count": 1,
     "metadata": {},
     "output_type": "execute_result"
    }
   ],
   "source": [
    "def solution(limit = 4000000):\n",
    "    s = 2\n",
    "    m = 1\n",
    "    n = 2\n",
    "    x = 0\n",
    "    while x <= limit:\n",
    "        x = m+n\n",
    "        if x%2 == 0:\n",
    "            s+=x\n",
    "        m = n\n",
    "        n = x\n",
    "    return s"
   ]
  },
  {
   "cell_type": "markdown",
   "metadata": {},
   "source": [
    "# Problem 3"
   ]
  },
  {
   "cell_type": "code",
   "execution_count": 63,
   "metadata": {},
   "outputs": [
    {
     "name": "stdout",
     "output_type": "stream",
     "text": [
      "factor 71\n",
      "factor 839\n",
      "factor 1471\n",
      "factor 6857\n",
      "largest prime factor is: 6857\n"
     ]
    }
   ],
   "source": [
    "def is_prime(s):\n",
    "    mm = s-1\n",
    "    while mm > 1:\n",
    "        if s%mm == 0:\n",
    "            return False\n",
    "        mm -= 1\n",
    "    return True\n",
    "\n",
    "n = 1\n",
    "x = 600851475143\n",
    "while x != 1:\n",
    "    n+=1\n",
    "    while is_prime(n)==False:\n",
    "        n+=1\n",
    "    if x%n == 0:\n",
    "        x = x/n\n",
    "        print('factor',n)\n",
    "print(\"largest prime factor is: {}\".format(n))\n"
   ]
  },
  {
   "cell_type": "markdown",
   "metadata": {},
   "source": [
    "# Problem 4"
   ]
  },
  {
   "cell_type": "code",
   "execution_count": 42,
   "metadata": {},
   "outputs": [
    {
     "name": "stdout",
     "output_type": "stream",
     "text": [
      "999 91 90909\n",
      "995 583 580085\n",
      "993 913 906609\n"
     ]
    }
   ],
   "source": [
    "x = 999\n",
    "y = 999\n",
    "largest = 0\n",
    "while x>499:\n",
    "    while y>1:\n",
    "        n = x*y\n",
    "        if str(n) == str(n)[::-1]:\n",
    "            if n>largest:\n",
    "                largest = n\n",
    "                print(x,y,largest)\n",
    "            break\n",
    "        y-=1\n",
    "    y=999\n",
    "    x-=1"
   ]
  },
  {
   "cell_type": "markdown",
   "metadata": {},
   "source": [
    "# Problem 5"
   ]
  },
  {
   "cell_type": "code",
   "execution_count": 56,
   "metadata": {},
   "outputs": [],
   "source": [
    "def not_evenly_divisible_20(x):\n",
    "    if sum(x%y for y in [20,19,18,17,16,15,14,13,11])==0:\n",
    "        return False\n",
    "    return True"
   ]
  },
  {
   "cell_type": "code",
   "execution_count": 57,
   "metadata": {},
   "outputs": [
    {
     "data": {
      "text/plain": [
       "232792560"
      ]
     },
     "execution_count": 57,
     "metadata": {},
     "output_type": "execute_result"
    }
   ],
   "source": [
    "x = 2520\n",
    "while not_evenly_divisible_20(x):\n",
    "    x+=20\n",
    "x"
   ]
  },
  {
   "cell_type": "markdown",
   "metadata": {},
   "source": [
    "# Problem 6"
   ]
  },
  {
   "cell_type": "code",
   "execution_count": 62,
   "metadata": {},
   "outputs": [
    {
     "data": {
      "text/plain": [
       "25164150"
      ]
     },
     "execution_count": 62,
     "metadata": {},
     "output_type": "execute_result"
    }
   ],
   "source": [
    "sum([x for x in range(1,101)])**2 - sum([x**2 for x in range(1, 101)])"
   ]
  },
  {
   "cell_type": "markdown",
   "metadata": {},
   "source": [
    "# Problem 7"
   ]
  },
  {
   "cell_type": "code",
   "execution_count": 71,
   "metadata": {},
   "outputs": [
    {
     "name": "stdout",
     "output_type": "stream",
     "text": [
      "7919 1000\n",
      "17389 2000\n",
      "27449 3000\n",
      "37813 4000\n",
      "48611 5000\n",
      "59359 6000\n",
      "70657 7000\n",
      "81799 8000\n",
      "93179 9000\n",
      "104729 10000\n"
     ]
    },
    {
     "data": {
      "text/plain": [
       "(104743, 10001)"
      ]
     },
     "execution_count": 71,
     "metadata": {},
     "output_type": "execute_result"
    }
   ],
   "source": [
    "i = 1\n",
    "x = 2\n",
    "while i != 10001:\n",
    "    x+=1\n",
    "    if str(x)[-1] in ['2', '4', '6', '8', '0']:\n",
    "        continue\n",
    "    else: \n",
    "        if is_prime(x):\n",
    "            i+=1\n",
    "            if i % 1000 == 0:\n",
    "                print(x,i)\n",
    "x, i"
   ]
  },
  {
   "cell_type": "code",
   "execution_count": 98,
   "metadata": {},
   "outputs": [
    {
     "data": {
      "text/plain": [
       "104743"
      ]
     },
     "execution_count": 98,
     "metadata": {},
     "output_type": "execute_result"
    }
   ],
   "source": [
    "def get_nth_prime(n):\n",
    "    \"\"\"\n",
    "    The point here is: if a number `x` can't be evenly divided by any prime numbers that's smaller than `x`, then `x` is prime.\n",
    "    \"\"\"\n",
    "    prime_list = [2] # initiate the list with the first prime number\n",
    "    x = 3\n",
    "    while len(prime_list) < n:\n",
    "        prime = True\n",
    "        for i in prime_list:\n",
    "            if x % i == 0:\n",
    "                prime = False\n",
    "                x += 2 # even numbers>2 can't be prime\n",
    "                break # we don't want to waste time checking the rest\n",
    "        if prime:\n",
    "            prime_list.append(x)\n",
    "            x += 2\n",
    "    return prime_list\n",
    "\n",
    "get_nth_prime(10001)[-1]"
   ]
  },
  {
   "cell_type": "code",
   "execution_count": 89,
   "metadata": {},
   "outputs": [
    {
     "data": {
      "text/plain": [
       "104743"
      ]
     },
     "execution_count": 89,
     "metadata": {},
     "output_type": "execute_result"
    }
   ],
   "source": [
    "def get_n_prime(limit):\n",
    "    p_no = [2,3]\n",
    "    i = 3\n",
    "    n = p_no[-1] + 2\n",
    "    while len(p_no) <= limit:\n",
    "        prime = True\n",
    "        for i in p_no:\n",
    "            if n % i == 0:\n",
    "                prime = False\n",
    "                break\n",
    "        if prime: p_no.append(n)\n",
    "        n += 2\n",
    "    return p_no[-1]\n",
    "\n",
    "get_n_prime(10000)\n"
   ]
  },
  {
   "cell_type": "code",
   "execution_count": 14,
   "metadata": {},
   "outputs": [
    {
     "ename": "SyntaxError",
     "evalue": "unexpected EOF while parsing (<ipython-input-14-997dcc5f6561>, line 2)",
     "output_type": "error",
     "traceback": [
      "\u001b[0;36m  File \u001b[0;32m\"<ipython-input-14-997dcc5f6561>\"\u001b[0;36m, line \u001b[0;32m2\u001b[0m\n\u001b[0;31m    \u001b[0m\n\u001b[0m    ^\u001b[0m\n\u001b[0;31mSyntaxError\u001b[0m\u001b[0;31m:\u001b[0m unexpected EOF while parsing\n"
     ]
    }
   ],
   "source": [
    "def str_prod(x):\n",
    "    "
   ]
  },
  {
   "cell_type": "code",
   "execution_count": 58,
   "metadata": {},
   "outputs": [
    {
     "data": {
      "text/plain": [
       "(23514624000, '5576689664895')"
      ]
     },
     "execution_count": 58,
     "metadata": {},
     "output_type": "execute_result"
    }
   ],
   "source": [
    "n=\"\"\"73167176531330624919225119674426574742355349194934\n",
    "96983520312774506326239578318016984801869478851843\n",
    "85861560789112949495459501737958331952853208805511\n",
    "12540698747158523863050715693290963295227443043557\n",
    "66896648950445244523161731856403098711121722383113\n",
    "62229893423380308135336276614282806444486645238749\n",
    "30358907296290491560440772390713810515859307960866\n",
    "70172427121883998797908792274921901699720888093776\n",
    "65727333001053367881220235421809751254540594752243\n",
    "52584907711670556013604839586446706324415722155397\n",
    "53697817977846174064955149290862569321978468622482\n",
    "83972241375657056057490261407972968652414535100474\n",
    "82166370484403199890008895243450658541227588666881\n",
    "16427171479924442928230863465674813919123162824586\n",
    "17866458359124566529476545682848912883142607690042\n",
    "24219022671055626321111109370544217506941658960408\n",
    "07198403850962455444362981230987879927244284909188\n",
    "84580156166097919133875499200524063689912560717606\n",
    "05886116467109405077541002256983155200055935729725\n",
    "71636269561882670428252483600823257530420752963450\n",
    "\"\"\"\n",
    "\n",
    "n = n.replace('\\n', '')\n",
    "n_proc = [x for x in n.split('0') if len(x) >=13]\n",
    "\n",
    "p_max = 0\n",
    "record = ''\n",
    "for x in n_proc:\n",
    "    \n",
    "    for i in range(len(x)-12):\n",
    "        slis = x[i: i+13]\n",
    "        p = 1\n",
    "        for e in slis:\n",
    "            p *= int(e)\n",
    "        if p > p_max:\n",
    "            p_max,record = p,slis \n",
    "            \n",
    "p_max, record"
   ]
  },
  {
   "cell_type": "code",
   "execution_count": 42,
   "metadata": {},
   "outputs": [
    {
     "data": {
      "text/plain": [
       "(23514624000, '5576689664895')"
      ]
     },
     "execution_count": 42,
     "metadata": {},
     "output_type": "execute_result"
    }
   ],
   "source": [
    "n = n.replace('\\n', '')\n",
    "p_max = 0\n",
    "record = ''\n",
    "for i in range(len(n)-13-1):\n",
    "    slis = n[i: i+13]\n",
    "    p = 1\n",
    "    for x in slis:\n",
    "        p *= int(x)\n",
    "    if p > p_max:\n",
    "        p_max,record = p,slis \n",
    "p_max, record"
   ]
  },
  {
   "cell_type": "code",
   "execution_count": 45,
   "metadata": {},
   "outputs": [
    {
     "data": {
      "text/plain": [
       "[False,\n",
       " False,\n",
       " False,\n",
       " False,\n",
       " False,\n",
       " False,\n",
       " False,\n",
       " True,\n",
       " False,\n",
       " False,\n",
       " False,\n",
       " False,\n",
       " False,\n",
       " False,\n",
       " False,\n",
       " False,\n",
       " False,\n",
       " False,\n",
       " False,\n",
       " False,\n",
       " False,\n",
       " False,\n",
       " False,\n",
       " False]"
      ]
     },
     "execution_count": 45,
     "metadata": {},
     "output_type": "execute_result"
    }
   ],
   "source": [
    "[record in x for x in n_proc]"
   ]
  },
  {
   "cell_type": "markdown",
   "metadata": {},
   "source": [
    "# Problem10"
   ]
  },
  {
   "cell_type": "code",
   "execution_count": 10,
   "metadata": {},
   "outputs": [],
   "source": [
    "def get_limit_prime(n):\n",
    "    \"\"\"\n",
    "    The point here is: if a number `x` can't be evenly divided by any prime numbers that's smaller than `x`, then `x` is prime.\n",
    "    \"\"\"\n",
    "    prime_list = [2] # initiate the list with the first prime number\n",
    "    x = 3\n",
    "    while x < n:\n",
    "        prime = True\n",
    "        for i in prime_list:\n",
    "            if x % i == 0:\n",
    "                prime = False\n",
    "                x += 2 # even numbers>2 can't be prime\n",
    "                break # we don't want to waste time checking the rest\n",
    "        if prime:\n",
    "            prime_list.append(x)\n",
    "            x += 2\n",
    "        # if x % 50000 == 1:\n",
    "        #     print(x)\n",
    "    return prime_list"
   ]
  },
  {
   "cell_type": "code",
   "execution_count": null,
   "metadata": {},
   "outputs": [],
   "source": [
    "n = 2000000\n",
    "l = get_limit_prime(n)\n",
    "sum(l)"
   ]
  },
  {
   "cell_type": "markdown",
   "metadata": {},
   "source": [
    "#  Filter by correlation"
   ]
  },
  {
   "cell_type": "code",
   "execution_count": null,
   "metadata": {},
   "outputs": [],
   "source": [
    "def ftr_select_corr(X, corr_bar, iv_df):\n",
    "    \"\"\"\n",
    "    Drop features that have correlation higher than `corr_bar` and keep whichever has the higher iv according to `auc_df`.\n",
    "    \"\"\"    \n",
    "    cols = list(X.columns)\n",
    "    cols_drop = []\n",
    "    corr_df = X.corr()\n",
    "#     print(\"corr_df created.\")\n",
    "    i = 0\n",
    "    while i < len(cols) - 1:\n",
    "        col_1 = cols[i]\n",
    "        j = i + 1 \n",
    "        while j < len(cols):\n",
    "            col_2 = cols[j]\n",
    "            corr = corr_df.loc[col_2, col_1]\n",
    "            if abs(corr) > corr_bar:\n",
    "                iv_1 = iv_df.query('feature == @col_1')['iv'].squeeze()\n",
    "                iv_2 = iv_df.query('feature == @col_2')['iv'].squeeze()\n",
    "                col_drop = col_2 if iv_1 > iv_2 else col_1\n",
    "                cols_drop.append(col_drop)\n",
    "                cols.remove(col_drop)\n",
    "                X = X.drop(col_drop, axis=1)\n",
    "                j -= 1\n",
    "                if col_drop == col_1:\n",
    "                    i -= 1\n",
    "                    break\n",
    "            j += 1\n",
    "        i += 1\n",
    "    return [X, cols_drop]\n",
    "\n"
   ]
  },
  {
   "cell_type": "markdown",
   "metadata": {},
   "source": [
    "# 1402. Reducing Dishes"
   ]
  },
  {
   "cell_type": "code",
   "execution_count": null,
   "metadata": {},
   "outputs": [],
   "source": [
    "def maxSatisfaction(satisfaction):\n",
    "    \"\"\"\n",
    "    Early stopping could be added to make the method more efficient.\n",
    "    \"\"\"\n",
    "        max_coef = 0\n",
    "        best_combo = []\n",
    "        satisfaction_sorted = sorted(satisfaction)\n",
    "\n",
    "        for n in range(1, len(satisfaction)+1):\n",
    "            coef = sum([satisfaction_sorted[-n:][i] * (i+1) for i in range(n)])\n",
    "            if coef > max_coef:\n",
    "                max_coef = coef\n",
    "                best_combo = satisfaction_sorted[-n:]\n",
    "        \n",
    "        return max_coef"
   ]
  },
  {
   "cell_type": "markdown",
   "metadata": {},
   "source": [
    "# Recover a Tree From Preorder Traversal"
   ]
  },
  {
   "cell_type": "code",
   "execution_count": 196,
   "metadata": {},
   "outputs": [],
   "source": [
    "s = \"1-2--3---4-5--6---7\"\n"
   ]
  },
  {
   "cell_type": "code",
   "execution_count": 197,
   "metadata": {},
   "outputs": [
    {
     "data": {
      "text/plain": [
       "['1', '2', '', '3', '', '', '4', '5', '', '6', '', '', '7']"
      ]
     },
     "execution_count": 197,
     "metadata": {},
     "output_type": "execute_result"
    }
   ],
   "source": [
    "s.split('-')"
   ]
  },
  {
   "cell_type": "code",
   "execution_count": 199,
   "metadata": {},
   "outputs": [
    {
     "data": {
      "text/plain": [
       "([1, 2, 3, 4, 5, 6, 7], [0, 1, 2, 3, 1, 2, 3], [1, 1, 2, 3, 1, 5, 6])"
      ]
     },
     "execution_count": 199,
     "metadata": {},
     "output_type": "execute_result"
    }
   ],
   "source": [
    "a,b = get_num_and_level(s)\n",
    "c = get_parents(a,b)\n",
    "a,b,c"
   ]
  },
  {
   "cell_type": "code",
   "execution_count": 170,
   "metadata": {
    "tags": []
   },
   "outputs": [],
   "source": [
    "def get_num_and_level(s):\n",
    "    \"\"\"\n",
    "    Given a string of the format, return the list of numbers contained in it, and the list of the levels of the numbers.\n",
    "    \"\"\"\n",
    "    s_split = s.split('-')\n",
    "\n",
    "    numbers = [int(s_split[0])]\n",
    "    levels = [0]\n",
    "    level_count = 1\n",
    "    for x in s_split[1:]:\n",
    "        try:\n",
    "            numbers.append(int(x))\n",
    "            levels.append(level_count)\n",
    "            level_count = 1\n",
    "        except:\n",
    "            level_count += 1\n",
    "    \n",
    "    return numbers, levels\n",
    "\n",
    "def get_parents(numbers, levels):\n",
    "    \"\"\"\n",
    "    Given the numbers and their corresponding levels, get the list of the parents of each number. \n",
    "    \"\"\"\n",
    "\n",
    "    parents = [numbers[0], numbers[0]]\n",
    "    for n in range(2,len(numbers)):\n",
    "        numbers_sub = numbers[:n+1]\n",
    "        levels_sub = levels[:n+1]\n",
    "        level_dict = dict(zip(numbers_sub, levels_sub))\n",
    "        x = numbers[n]\n",
    "        parents.append([y for y in numbers_sub if level_dict[y] < level_dict[x]][-1])\n",
    "    \n",
    "    return parents\n",
    "\n",
    "    def convert_func(n_l, n_p_dict, l_max):\n",
    "        \"\"\"\n",
    "        Given the subset of numbers of a certain level, and the n_p_dict, covert the numbers to the desired list format.\n",
    "        \"\"\"\n",
    "        s = []\n",
    "        if len(n_l) == 1:\n",
    "            s = n_l\n",
    "            if l < l_max:\n",
    "                s.append('null')\n",
    "        else:\n",
    "            while len(n_l) > 1:\n",
    "                a = n_l[0]\n",
    "                b = n_l[1]\n",
    "                if n_p_dict[a] == n_p_dict[b]:\n",
    "                    s.append(a)\n",
    "                    s.append(b)\n",
    "                    n_l.remove(a)\n",
    "                    n_l.remove(b)\n",
    "                else:\n",
    "                    s.append(a)\n",
    "                    s.append('null')\n",
    "                    n_l.remove(a)\n",
    "            if len(n_l) == 1:\n",
    "                s.append(n_l[0])\n",
    "                if l < l_max:\n",
    "                    s.append('null')\n",
    "\n",
    "        return s"
   ]
  },
  {
   "cell_type": "code",
   "execution_count": 194,
   "metadata": {},
   "outputs": [],
   "source": [
    "numbers, levels = get_num_and_level(\"1-2--3--4-5--6--7\")\n",
    "parents = get_parents(numbers,levels)\n",
    "\n",
    "n_p_dict = dict(zip(numbers, parents))\n",
    "n_l_dict = dict(zip(numbers, levels))\n",
    "\n",
    "l_max = max(levels)\n",
    "result = [numbers[0]]\n",
    "for l in set(levels):\n",
    "    if l!=0:\n",
    "        n_l = [x for x in numbers if n_l_dict[x] == l]\n",
    "        result.extend(convert_func(n_l, n_p_dict, l_max))"
   ]
  },
  {
   "cell_type": "code",
   "execution_count": 195,
   "metadata": {
    "tags": []
   },
   "outputs": [
    {
     "data": {
      "text/plain": [
       "[1, 2, 5, 3, 4, 6, 7]"
      ]
     },
     "execution_count": 195,
     "metadata": {},
     "output_type": "execute_result"
    }
   ],
   "source": [
    "result"
   ]
  },
  {
   "cell_type": "code",
   "execution_count": null,
   "metadata": {},
   "outputs": [],
   "source": []
  },
  {
   "cell_type": "code",
   "execution_count": null,
   "metadata": {},
   "outputs": [],
   "source": []
  },
  {
   "cell_type": "code",
   "execution_count": null,
   "metadata": {},
   "outputs": [],
   "source": [
    "# Definition for a binary tree node.\n",
    "# class TreeNode(object):\n",
    "#     def __init__(self, val=0, left=None, right=None):\n",
    "#         self.val = val\n",
    "#         self.left = left\n",
    "#         self.right = right\n",
    "class Solution(object):\n",
    "    def get_num_and_level(self, s):\n",
    "        \"\"\"\n",
    "        Given a string of the format, return the list of numbers contained in it, and the list of the levels of the numbers.\n",
    "        \"\"\"\n",
    "        s_split = s.split('-')\n",
    "\n",
    "        numbers = [int(s_split[0])]\n",
    "        levels = [0]\n",
    "        level_count = 1\n",
    "        for x in s_split[1:]:\n",
    "            try:\n",
    "                numbers.append(int(x))\n",
    "                levels.append(level_count)\n",
    "                level_count = 1\n",
    "            except:\n",
    "                level_count += 1\n",
    "\n",
    "        return numbers, levels\n",
    "\n",
    "    def get_parents(self, numbers, levels):\n",
    "        \"\"\"\n",
    "        Given the numbers and their corresponding levels, get the list of the parents of each number. \n",
    "        \"\"\"\n",
    "\n",
    "        parents = [numbers[0], numbers[0]]\n",
    "        for n in range(2,len(numbers)):\n",
    "            numbers_sub = numbers[:n+1]\n",
    "            levels_sub = levels[:n+1]\n",
    "            level_dict = dict(zip(numbers_sub, levels_sub))\n",
    "            x = numbers[n]\n",
    "            parents.append([y for y in numbers_sub if level_dict[y] < level_dict[x]][-1])\n",
    "\n",
    "        return parents\n",
    "\n",
    "    def convert_func(self, n_l, n_p_dict, l_max):\n",
    "        \"\"\"\n",
    "        Given the subset of numbers of a certain level, and the n_p_dict, covert the numbers to the desired list format.\n",
    "        \"\"\"\n",
    "        s = []\n",
    "        if len(n_l) == 1:\n",
    "            s = n_l\n",
    "            if l < l_max:\n",
    "                s.append('null')\n",
    "        else:\n",
    "            while len(n_l) > 1:\n",
    "                a = n_l[0]\n",
    "                b = n_l[1]\n",
    "                if n_p_dict[a] == n_p_dict[b]:\n",
    "                    s.append(a)\n",
    "                    s.append(b)\n",
    "                    n_l.remove(a)\n",
    "                    n_l.remove(b)\n",
    "                else:\n",
    "                    s.append(a)\n",
    "                    s.append('null')\n",
    "                    n_l.remove(a)\n",
    "            if len(n_l) == 1:\n",
    "                s.append(n_l[0])\n",
    "                if l < l_max:\n",
    "                    s.append('null')\n",
    "\n",
    "        return s\n",
    "    \n",
    "    def recoverFromPreorder(self, S):\n",
    "        \"\"\"\n",
    "        :type S: str\n",
    "        :rtype: TreeNode\n",
    "        \"\"\"\n",
    "        numbers, levels = self.get_num_and_level(S)\n",
    "        if len(numbers)==1:\n",
    "            return numbers\n",
    "        if len(numbers)==2:\n",
    "            numbers.append('null')\n",
    "            return numbers\n",
    "        parents = self.get_parents(numbers,levels)\n",
    "        n_p_dict = dict(zip(numbers, parents))\n",
    "        n_l_dict = dict(zip(numbers, levels))\n",
    "        \n",
    "        l_max = max(levels)\n",
    "        result = [numbers[0]]\n",
    "        for l in set(levels):\n",
    "            if l!=0:\n",
    "                n_l = [x for x in numbers if n_l_dict[x] == l]\n",
    "                result.extend(self.convert_func(n_l, n_p_dict, l_max))\n",
    "\n",
    "        return result"
   ]
  },
  {
   "cell_type": "markdown",
   "metadata": {},
   "source": [
    "# 1375. Bulb Switcher III"
   ]
  },
  {
   "cell_type": "code",
   "execution_count": 80,
   "metadata": {},
   "outputs": [],
   "source": [
    "light = [2,1,3,5,4]"
   ]
  },
  {
   "cell_type": "code",
   "execution_count": 81,
   "metadata": {},
   "outputs": [
    {
     "name": "stdout",
     "output_type": "stream",
     "text": [
      "0 2\n",
      "1 1\n",
      "2 3\n",
      "3 5\n",
      "4 4\n"
     ]
    }
   ],
   "source": [
    "for a,b in enumerate(light):\n",
    "    print(a,b)"
   ]
  },
  {
   "cell_type": "code",
   "execution_count": 77,
   "metadata": {},
   "outputs": [],
   "source": [
    "def numTimesAllBlue(light):\n",
    "    n = len(light)\n",
    "    lit = [0] * n\n",
    "\n",
    "    blue = 0\n",
    "    for i in range(n):\n",
    "        x = light[i]\n",
    "        lit[x-1] = 1\n",
    "        if i>=1:\n",
    "            if x <= max(light[:i])+1:\n",
    "                if sum(lit[:i+1]) == i+1:\n",
    "                    blue += 1\n",
    "        else:\n",
    "            if light[i] == 1:\n",
    "                blue +=1\n",
    "            \n",
    "    return blue"
   ]
  },
  {
   "cell_type": "code",
   "execution_count": null,
   "metadata": {},
   "outputs": [],
   "source": []
  },
  {
   "cell_type": "code",
   "execution_count": 79,
   "metadata": {},
   "outputs": [
    {
     "data": {
      "text/plain": [
       "1"
      ]
     },
     "execution_count": 79,
     "metadata": {},
     "output_type": "execute_result"
    }
   ],
   "source": [
    "numTimesAllBlue([4,1,2,3])"
   ]
  },
  {
   "cell_type": "code",
   "execution_count": 70,
   "metadata": {},
   "outputs": [
    {
     "data": {
      "text/plain": [
       "[1, 1]"
      ]
     },
     "execution_count": 70,
     "metadata": {},
     "output_type": "execute_result"
    }
   ],
   "source": [
    "[1, 1, 0, 0, 0]"
   ]
  },
  {
   "cell_type": "code",
   "execution_count": 67,
   "metadata": {},
   "outputs": [],
   "source": [
    "# def numTimesAllBlue(light):\n",
    "#     \"\"\"\n",
    "#     :type light: List[int]\n",
    "#     :rtype: int\n",
    "#     \"\"\"\n",
    "#     n = len(light)\n",
    "#     lit = [0] * n\n",
    "\n",
    "#     blue = 0\n",
    "#     for i in range(n):\n",
    "#         x = light[i]\n",
    "#         lit[x-1] = 1\n",
    "#         if sum(lit[:i+1]) == i+1:\n",
    "#             blue += 1\n",
    "\n",
    "#     return blue"
   ]
  },
  {
   "cell_type": "markdown",
   "metadata": {},
   "source": [
    "# 1094. Car Pooling"
   ]
  },
  {
   "cell_type": "code",
   "execution_count": 97,
   "metadata": {},
   "outputs": [],
   "source": [
    "trips = [[7,5,6],[6,7,8],[10,1,6]]\n",
    "capacity = 16"
   ]
  },
  {
   "cell_type": "code",
   "execution_count": 93,
   "metadata": {},
   "outputs": [
    {
     "name": "stdout",
     "output_type": "stream",
     "text": [
      "False\n",
      "True\n"
     ]
    }
   ],
   "source": [
    "pick_up = [x[1] for x in trips]\n",
    "drop_off = [x[-1] for x in trips]\n",
    "n = [x[0] for x in trips]\n",
    "\n",
    "stops_on = dict(zip(pick_up, n))\n",
    "stops_off = dict(zip(drop_off, n))\n",
    "stops = set(pick_up + drop_off)\n",
    "\n",
    "p = 0\n",
    "for x in stops:\n",
    "    try:\n",
    "        p += stops_on[x]\n",
    "    except:\n",
    "        pass\n",
    "    try:\n",
    "        p -= stops_off[x]\n",
    "    except:\n",
    "        pass\n",
    "    if p > capacity:\n",
    "        print(False)\n",
    "print(True)"
   ]
  },
  {
   "cell_type": "code",
   "execution_count": 83,
   "metadata": {},
   "outputs": [],
   "source": []
  },
  {
   "cell_type": "code",
   "execution_count": 89,
   "metadata": {},
   "outputs": [
    {
     "name": "stdout",
     "output_type": "stream",
     "text": [
      "False\n",
      "True\n"
     ]
    }
   ],
   "source": []
  },
  {
   "cell_type": "code",
   "execution_count": 53,
   "metadata": {},
   "outputs": [
    {
     "data": {
      "text/plain": [
       "{2: 3, 7: 3, 3: 8}"
      ]
     },
     "execution_count": 53,
     "metadata": {},
     "output_type": "execute_result"
    }
   ],
   "source": []
  },
  {
   "cell_type": "code",
   "execution_count": null,
   "metadata": {},
   "outputs": [],
   "source": []
  },
  {
   "cell_type": "code",
   "execution_count": 24,
   "metadata": {},
   "outputs": [],
   "source": [
    "stops = [0] * max(drop_off)"
   ]
  },
  {
   "cell_type": "code",
   "execution_count": 25,
   "metadata": {},
   "outputs": [],
   "source": [
    "for i, x in enumerate(pick_up):\n",
    "    stops[x-1] += n[i]\n",
    "for i, x in enumerate(drop_off):\n",
    "    stops[x-1] -= n[i]"
   ]
  },
  {
   "cell_type": "code",
   "execution_count": null,
   "metadata": {},
   "outputs": [],
   "source": []
  },
  {
   "cell_type": "code",
   "execution_count": 26,
   "metadata": {},
   "outputs": [
    {
     "data": {
      "text/plain": [
       "[2, 0, 3, 0, -2, 0, -3]"
      ]
     },
     "execution_count": 26,
     "metadata": {},
     "output_type": "execute_result"
    }
   ],
   "source": [
    "stops"
   ]
  },
  {
   "cell_type": "code",
   "execution_count": 115,
   "metadata": {},
   "outputs": [],
   "source": [
    "def carPooling(trips, capacity):\n",
    "    \"\"\"\n",
    "    :type trips: List[List[int]]\n",
    "    :type capacity: int\n",
    "    :rtype: bool\n",
    "    \"\"\"\n",
    "\n",
    "    pick_up = [x[1] for x in trips]\n",
    "    drop_off = [x[-1] for x in trips]\n",
    "    n = [x[0] for x in trips]\n",
    "\n",
    "    stops_on = dict(zip(pick_up, n))\n",
    "    stops_off = dict(zip(drop_off, n))\n",
    "    stops = set(pick_up + drop_off)\n",
    "\n",
    "    p = 0\n",
    "    for x in stops:\n",
    "        try:\n",
    "            p += stops_on[x]\n",
    "        except:\n",
    "            pass\n",
    "        try:\n",
    "            p -= stops_off[x]\n",
    "        except:\n",
    "            pass\n",
    "        if p > capacity:\n",
    "            print(x,p)\n",
    "            return False\n",
    "    return True"
   ]
  },
  {
   "cell_type": "code",
   "execution_count": 116,
   "metadata": {},
   "outputs": [
    {
     "name": "stdout",
     "output_type": "stream",
     "text": [
      "5 17\n"
     ]
    },
    {
     "data": {
      "text/plain": [
       "False"
      ]
     },
     "execution_count": 116,
     "metadata": {},
     "output_type": "execute_result"
    }
   ],
   "source": [
    "carPooling([[7,5,6],[6,7,8],[10,1,6]], 16)"
   ]
  },
  {
   "cell_type": "code",
   "execution_count": null,
   "metadata": {},
   "outputs": [],
   "source": []
  },
  {
   "cell_type": "markdown",
   "metadata": {},
   "source": [
    "# 679. 24 Game"
   ]
  },
  {
   "cell_type": "code",
   "execution_count": 18,
   "metadata": {},
   "outputs": [
    {
     "data": {
      "text/plain": [
       "2592"
      ]
     },
     "execution_count": 18,
     "metadata": {},
     "output_type": "execute_result"
    }
   ],
   "source": [
    "6*6*2*6*1*6"
   ]
  },
  {
   "cell_type": "code",
   "execution_count": 5,
   "metadata": {},
   "outputs": [],
   "source": [
    "a = 2\n",
    "b = 3"
   ]
  },
  {
   "cell_type": "code",
   "execution_count": 76,
   "metadata": {},
   "outputs": [],
   "source": [
    "def comb(a, b):\n",
    "    if a == 0:\n",
    "        return list(set([b, -b, 0]))\n",
    "    if b == 0:\n",
    "        return list(set([a, -a, 0]))\n",
    "    return list(set([a+b, a-b, a*b, a/b, b-a, b/a]))"
   ]
  },
  {
   "cell_type": "code",
   "execution_count": 88,
   "metadata": {},
   "outputs": [],
   "source": [
    "i = [3,33,2,8]"
   ]
  },
  {
   "cell_type": "code",
   "execution_count": 89,
   "metadata": {},
   "outputs": [
    {
     "data": {
      "text/plain": [
       "True"
      ]
     },
     "execution_count": 89,
     "metadata": {},
     "output_type": "execute_result"
    }
   ],
   "source": [
    "results = []\n",
    "for x in i:\n",
    "    i_1 = i.copy()\n",
    "    i_1.remove(x)\n",
    "    for y in i_1:\n",
    "        r_1 = comb(x, y)\n",
    "        for z in r_1:\n",
    "            i_2 = i_1.copy()\n",
    "            i_2.remove(y)\n",
    "            for a in i_2:\n",
    "                i_3 = i_2.copy()\n",
    "                i_3.remove(a)\n",
    "                i_3 = i_3[0]\n",
    "                r_2 = comb(z, a)\n",
    "                for b in r_2:\n",
    "                    r_3 = comb(b, i_3)\n",
    "                    results.extend(r_3)\n",
    "\n",
    "for x in i:\n",
    "    i_1 = i.copy()\n",
    "    i_1.remove(x)\n",
    "    for y in i_1:\n",
    "        r_1 = comb(x, y)\n",
    "        for z in r_1:\n",
    "            i_2 = i_1.copy()\n",
    "            i_2.remove(y)\n",
    "            r_2 = comb(i_2[0], i_2[1])\n",
    "            for a in r_2:\n",
    "                r_3 = comb(z, a)\n",
    "                results.extend(r_3)                    \n",
    "                    \n",
    "24 in set([round(x, 4) for x in results])"
   ]
  },
  {
   "cell_type": "code",
   "execution_count": 15,
   "metadata": {},
   "outputs": [],
   "source": [
    "a = [2,1]"
   ]
  },
  {
   "cell_type": "code",
   "execution_count": null,
   "metadata": {},
   "outputs": [],
   "source": []
  },
  {
   "cell_type": "code",
   "execution_count": null,
   "metadata": {},
   "outputs": [],
   "source": []
  },
  {
   "cell_type": "markdown",
   "metadata": {},
   "source": [
    "# 51. N-Queens\n"
   ]
  },
  {
   "cell_type": "code",
   "execution_count": 1,
   "metadata": {},
   "outputs": [],
   "source": [
    "n = 4"
   ]
  },
  {
   "cell_type": "code",
   "execution_count": 9,
   "metadata": {},
   "outputs": [],
   "source": [
    "def create_remove(remove_all, i):\n",
    "    remove_all.append(i)\n",
    "    remove_next = [i-1, i+1]\n",
    "    remove_next = [x for x in remove_next if (x>=0 and x<n)]\n",
    "    remove = list(set(remove_all + remove_next))\n",
    "    print('all,r',remove_all, remove)\n",
    "    return remove_all, remove"
   ]
  },
  {
   "cell_type": "code",
   "execution_count": 10,
   "metadata": {},
   "outputs": [],
   "source": [
    "remove_all = []\n",
    "remove_next = []\n",
    "level = list(range(n))\n",
    "solution = []"
   ]
  },
  {
   "cell_type": "code",
   "execution_count": 11,
   "metadata": {},
   "outputs": [
    {
     "name": "stdout",
     "output_type": "stream",
     "text": [
      "all,r [0] [0, 1]\n",
      "temp: [2, 3]\n",
      "all,r [0, 2] [0, 1, 2, 3]\n",
      "all,r [0, 2, 3] [0, 2, 3]\n",
      "temp: [1]\n",
      "all,r [0, 2, 3, 1] [0, 1, 2, 3]\n",
      "temp: []\n",
      "temp: []\n"
     ]
    }
   ],
   "source": [
    "# for i_1 in level:\n",
    "i_1 = 0\n",
    "solution_i = [i_1]\n",
    "remove_all, remove = create_remove(remove_all, i_1)\n",
    "m = n\n",
    "while m>0:\n",
    "    m-=1\n",
    "    temp = level.copy()\n",
    "    for x in remove:\n",
    "        temp.remove(x)\n",
    "    print('temp:', temp)\n",
    "    if len(temp)>0:\n",
    "        for i_m in temp:\n",
    "            remove_all, remove = create_remove(remove_all, i_m)\n",
    "            solution_i.append(i_m)\n",
    "if len(solution_i) == n:\n",
    "    solution.append(solution_i)"
   ]
  },
  {
   "cell_type": "code",
   "execution_count": null,
   "metadata": {},
   "outputs": [],
   "source": [
    "i_1 = 0\n",
    "solution_i = [i_1]\n",
    "remove_all, remove = create_remove(remove_all, i_1)\n",
    "while len(remove) < 4:\n",
    "    temp = level.copy()\n",
    "    for x in remove:\n",
    "        temp.remove(x)\n",
    "    remove_all, remove = create_remove(remove_all, i_m)"
   ]
  },
  {
   "cell_type": "code",
   "execution_count": null,
   "metadata": {},
   "outputs": [],
   "source": []
  },
  {
   "cell_type": "code",
   "execution_count": 8,
   "metadata": {},
   "outputs": [
    {
     "data": {
      "text/plain": [
       "[[0, 2, 3, 1]]"
      ]
     },
     "execution_count": 8,
     "metadata": {},
     "output_type": "execute_result"
    }
   ],
   "source": [
    "solution"
   ]
  },
  {
   "cell_type": "code",
   "execution_count": null,
   "metadata": {},
   "outputs": [],
   "source": []
  },
  {
   "cell_type": "code",
   "execution_count": 4,
   "metadata": {},
   "outputs": [],
   "source": [
    "n = 4"
   ]
  },
  {
   "cell_type": "code",
   "execution_count": 5,
   "metadata": {},
   "outputs": [],
   "source": [
    "i = 0"
   ]
  },
  {
   "cell_type": "code",
   "execution_count": null,
   "metadata": {},
   "outputs": [],
   "source": [
    "space = [space]\n",
    "possible = [[], [], [], []]"
   ]
  },
  {
   "cell_type": "code",
   "execution_count": null,
   "metadata": {},
   "outputs": [],
   "source": []
  },
  {
   "cell_type": "code",
   "execution_count": null,
   "metadata": {},
   "outputs": [],
   "source": []
  },
  {
   "cell_type": "code",
   "execution_count": null,
   "metadata": {},
   "outputs": [],
   "source": [
    "i = 0\n",
    "for x in possible[i]:\n",
    "    solution.append(x)\n",
    "    possible_temp = possible.copy()\n",
    "    possible_temp = update_possible()\n",
    "    while i <= n:\n",
    "        i += 1\n",
    "        if len(solution) == n:\n",
    "            solutions.append(solution)\n",
    "            break\n",
    "        if len(possible[i]) == 0:\n",
    "            break\n",
    "        for y in possible_temp[i]:\n",
    "            solution.append(y)"
   ]
  },
  {
   "cell_type": "code",
   "execution_count": null,
   "metadata": {},
   "outputs": [],
   "source": []
  }
 ],
 "metadata": {
  "file_extension": ".py",
  "kernelspec": {
   "display_name": "Python 3.7.5 64-bit ('base': conda)",
   "language": "python",
   "name": "python37564bitbaseconda1c7e1d8b344e40999f77e8157402705c"
  },
  "language_info": {
   "codemirror_mode": {
    "name": "ipython",
    "version": 3
   },
   "file_extension": ".py",
   "mimetype": "text/x-python",
   "name": "python",
   "nbconvert_exporter": "python",
   "pygments_lexer": "ipython3",
   "version": "3.7.5"
  },
  "mimetype": "text/x-python",
  "name": "python",
  "npconvert_exporter": "python",
  "pygments_lexer": "ipython3",
  "version": 3
 },
 "nbformat": 4,
 "nbformat_minor": 4
}
