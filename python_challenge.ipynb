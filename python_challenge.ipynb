{
 "nbformat": 4,
 "nbformat_minor": 2,
 "metadata": {
  "language_info": {
   "name": "python",
   "codemirror_mode": {
    "name": "ipython",
    "version": 3
   },
   "version": "3.7.5-final"
  },
  "orig_nbformat": 2,
  "file_extension": ".py",
  "mimetype": "text/x-python",
  "name": "python",
  "npconvert_exporter": "python",
  "pygments_lexer": "ipython3",
  "version": 3,
  "kernelspec": {
   "name": "python37564bitbaseconda1c7e1d8b344e40999f77e8157402705c",
   "display_name": "Python 3.7.5 64-bit ('base': conda)"
  }
 },
 "cells": [
  {
   "cell_type": "code",
   "execution_count": 9,
   "metadata": {},
   "outputs": [
    {
     "data": {
      "text/plain": "8022.0"
     },
     "execution_count": 9,
     "metadata": {},
     "output_type": "execute_result"
    }
   ],
   "source": [
    "16044/2"
   ]
  },
  {
   "cell_type": "code",
   "execution_count": 13,
   "metadata": {},
   "outputs": [],
   "source": [
    "code_list = []"
   ]
  },
  {
   "cell_type": "code",
   "execution_count": 21,
   "metadata": {},
   "outputs": [
    {
     "name": "stdout",
     "output_type": "stream",
     "text": "and the next nothing is 60074\nand the next nothing is 35959\nand the next nothing is 57158\nand the next nothing is 90990\nand the next nothing is 27935\nand the next nothing is 99927\nand the next nothing is 41785\nand the next nothing is 32660\nand the next nothing is 4328\nand the next nothing is 42067\nand the next nothing is 8743\nand the next nothing is 38613\nand the next nothing is 21100\nand the next nothing is 77864\nand the next nothing is 6523\nand the next nothing is 6927\nand the next nothing is 82930\nand the next nothing is 35846\nand the next nothing is 31785\nand the next nothing is 41846\nand the next nothing is 72387\nand the next nothing is 59334\nand the next nothing is 65520\nand the next nothing is 93781\nand the next nothing is 55840\nand the next nothing is 80842\nand the next nothing is 59022\nand the next nothing is 23298\nand the next nothing is 27709\nand the next nothing is 96791\nand the next nothing is 75635\nand the next nothing is 52899\nand the next nothing is 66831\npeak.html\nand the next nothing is 72758\nand the next nothing is 71301\nand the next nothing is 55577\nand the next nothing is 88786\nand the next nothing is 32293\nand the next nothing is 87798\nand the next nothing is 24838\nand the next nothing is 66137\nand the next nothing is 88016\nand the next nothing is 36876\nand the next nothing is 33179\nand the next nothing is 90231\nand the next nothing is 17825\nand the next nothing is 84361\nand the next nothing is 99222\nand the next nothing is 87348\n"
    }
   ],
   "source": [
    "\n",
    "import requests\n",
    "code = '2284'\n",
    "try:\n",
    "    for i in range(50):\n",
    "        link = \"http://www.pythonchallenge.com/pc/def/linkedlist.php?nothing=\"+code\n",
    "        f = requests.get(link)\n",
    "        print(f.text)\n",
    "        code = f.text[-5:]\n",
    "        code_list.append(code)\n",
    "except:\n",
    "    print('aaaaaaaaaaaaaaa')"
   ]
  },
  {
   "cell_type": "code",
   "execution_count": 14,
   "metadata": {},
   "outputs": [
    {
     "name": "stdout",
     "output_type": "stream",
     "text": "[(' ', 95)]\n[(' ', 14), ('#', 5), (' ', 70), ('#', 5), (' ', 1)]\n[(' ', 15), ('#', 4), (' ', 71), ('#', 4), (' ', 1)]\n[(' ', 15), ('#', 4), (' ', 71), ('#', 4), (' ', 1)]\n[(' ', 15), ('#', 4), (' ', 71), ('#', 4), (' ', 1)]\n[(' ', 15), ('#', 4), (' ', 71), ('#', 4), (' ', 1)]\n[(' ', 15), ('#', 4), (' ', 71), ('#', 4), (' ', 1)]\n[(' ', 15), ('#', 4), (' ', 71), ('#', 4), (' ', 1)]\n[(' ', 15), ('#', 4), (' ', 71), ('#', 4), (' ', 1)]\n[(' ', 6), ('#', 3), (' ', 6), ('#', 4), (' ', 3), ('#', 3), (' ', 9), ('#', 3), (' ', 7), ('#', 5), (' ', 3), ('#', 3), (' ', 4), ('#', 5), (' ', 3), ('#', 3), (' ', 10), ('#', 3), (' ', 7), ('#', 4), (' ', 1)]\n[(' ', 3), ('#', 3), (' ', 3), ('#', 2), (' ', 4), ('#', 4), (' ', 1), ('#', 7), (' ', 5), ('#', 2), (' ', 2), ('#', 3), (' ', 6), ('#', 4), (' ', 1), ('#', 7), (' ', 3), ('#', 4), (' ', 1), ('#', 7), (' ', 5), ('#', 3), (' ', 2), ('#', 3), (' ', 5), ('#', 4), (' ', 1)]\n[(' ', 2), ('#', 3), (' ', 5), ('#', 3), (' ', 2), ('#', 5), (' ', 4), ('#', 4), (' ', 3), ('#', 3), (' ', 3), ('#', 4), (' ', 4), ('#', 5), (' ', 4), ('#', 4), (' ', 2), ('#', 5), (' ', 4), ('#', 4), (' ', 3), ('#', 3), (' ', 5), ('#', 3), (' ', 3), ('#', 4), (' ', 1)]\n[(' ', 1), ('#', 3), (' ', 11), ('#', 4), (' ', 5), ('#', 4), (' ', 3), ('#', 3), (' ', 4), ('#', 3), (' ', 4), ('#', 4), (' ', 5), ('#', 4), (' ', 2), ('#', 4), (' ', 5), ('#', 4), (' ', 2), ('#', 3), (' ', 6), ('#', 4), (' ', 2), ('#', 4), (' ', 1)]\n[(' ', 1), ('#', 3), (' ', 11), ('#', 4), (' ', 5), ('#', 4), (' ', 10), ('#', 3), (' ', 4), ('#', 4), (' ', 5), ('#', 4), (' ', 2), ('#', 4), (' ', 5), ('#', 4), (' ', 2), ('#', 3), (' ', 7), ('#', 3), (' ', 2), ('#', 4), (' ', 1)]\n[('#', 4), (' ', 11), ('#', 4), (' ', 5), ('#', 4), (' ', 5), ('#', 2), (' ', 3), ('#', 3), (' ', 4), ('#', 4), (' ', 5), ('#', 4), (' ', 2), ('#', 4), (' ', 5), ('#', 4), (' ', 1), ('#', 4), (' ', 7), ('#', 3), (' ', 2), ('#', 4), (' ', 1)]\n[('#', 4), (' ', 11), ('#', 4), (' ', 5), ('#', 4), (' ', 3), ('#', 10), (' ', 4), ('#', 4), (' ', 5), ('#', 4), (' ', 2), ('#', 4), (' ', 5), ('#', 4), (' ', 1), ('#', 14), (' ', 2), ('#', 4), (' ', 1)]\n[('#', 4), (' ', 11), ('#', 4), (' ', 5), ('#', 4), (' ', 2), ('#', 3), (' ', 4), ('#', 4), (' ', 4), ('#', 4), (' ', 5), ('#', 4), (' ', 2), ('#', 4), (' ', 5), ('#', 4), (' ', 1), ('#', 4), (' ', 12), ('#', 4), (' ', 1)]\n[('#', 4), (' ', 11), ('#', 4), (' ', 5), ('#', 4), (' ', 1), ('#', 4), (' ', 5), ('#', 3), (' ', 4), ('#', 4), (' ', 5), ('#', 4), (' ', 2), ('#', 4), (' ', 5), ('#', 4), (' ', 1), ('#', 4), (' ', 12), ('#', 4), (' ', 1)]\n[(' ', 1), ('#', 3), (' ', 11), ('#', 4), (' ', 5), ('#', 4), (' ', 1), ('#', 4), (' ', 5), ('#', 3), (' ', 4), ('#', 4), (' ', 5), ('#', 4), (' ', 2), ('#', 4), (' ', 5), ('#', 4), (' ', 2), ('#', 3), (' ', 12), ('#', 4), (' ', 1)]\n[(' ', 2), ('#', 3), (' ', 6), ('#', 2), (' ', 2), ('#', 4), (' ', 5), ('#', 4), (' ', 2), ('#', 3), (' ', 4), ('#', 4), (' ', 4), ('#', 4), (' ', 5), ('#', 4), (' ', 2), ('#', 4), (' ', 5), ('#', 4), (' ', 3), ('#', 3), (' ', 6), ('#', 2), (' ', 3), ('#', 4), (' ', 1)]\n[(' ', 3), ('#', 3), (' ', 4), ('#', 2), (' ', 3), ('#', 4), (' ', 5), ('#', 4), (' ', 3), ('#', 11), (' ', 3), ('#', 4), (' ', 5), ('#', 4), (' ', 2), ('#', 4), (' ', 5), ('#', 4), (' ', 4), ('#', 3), (' ', 4), ('#', 2), (' ', 4), ('#', 4), (' ', 1)]\n[(' ', 6), ('#', 3), (' ', 5), ('#', 6), (' ', 4), ('#', 5), (' ', 4), ('#', 2), (' ', 4), ('#', 4), (' ', 1), ('#', 6), (' ', 4), ('#', 11), (' ', 4), ('#', 5), (' ', 6), ('#', 3), (' ', 6), ('#', 6)]\n[(' ', 95)]\n"
    }
   ],
   "source": [
    "import urllib.request\n",
    "url = \"http://www.pythonchallenge.com/pc/def/banner.p\"\n",
    "with urllib.request.urlopen(url) as f:\n",
    "    result = pickle.load(f)\n",
    "    for r in result:\n",
    "        print(r)"
   ]
  },
  {
   "cell_type": "code",
   "execution_count": 28,
   "metadata": {},
   "outputs": [
    {
     "name": "stdout",
     "output_type": "stream",
     "text": "\n              #####                                                                      ##### \n               ####                                                                       #### \n               ####                                                                       #### \n               ####                                                                       #### \n               ####                                                                       #### \n               ####                                                                       #### \n               ####                                                                       #### \n               ####                                                                       #### \n      ###      ####   ###         ###       #####   ###    #####   ###          ###       #### \n   ###   ##    #### #######     ##  ###      #### #######   #### #######     ###  ###     #### \n  ###     ###  #####    ####   ###   ####    #####    ####  #####    ####   ###     ###   #### \n ###           ####     ####   ###    ###    ####     ####  ####     ####  ###      ####  #### \n ###           ####     ####          ###    ####     ####  ####     ####  ###       ###  #### \n####           ####     ####     ##   ###    ####     ####  ####     #### ####       ###  #### \n####           ####     ####   ##########    ####     ####  ####     #### ##############  #### \n####           ####     ####  ###    ####    ####     ####  ####     #### ####            #### \n####           ####     #### ####     ###    ####     ####  ####     #### ####            #### \n ###           ####     #### ####     ###    ####     ####  ####     ####  ###            #### \n  ###      ##  ####     ####  ###    ####    ####     ####  ####     ####   ###      ##   #### \n   ###    ##   ####     ####   ###########   ####     ####  ####     ####    ###    ##    #### \n      ###     ######    #####    ##    #### ######    ###########    #####      ###      ######\n                                                                                               \n"
    }
   ],
   "source": [
    "for x in result:\n",
    "    s = ''\n",
    "    for y in x: \n",
    "        s += y[0]*y[1]\n",
    "    print(s)                "
   ]
  },
  {
   "cell_type": "code",
   "execution_count": null,
   "metadata": {},
   "outputs": [],
   "source": []
  },
  {
   "cell_type": "code",
   "execution_count": null,
   "metadata": {},
   "outputs": [],
   "source": []
  }
 ]
}