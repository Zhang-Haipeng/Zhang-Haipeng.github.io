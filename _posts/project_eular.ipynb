{
 "nbformat": 4,
 "nbformat_minor": 2,
 "metadata": {
  "language_info": {
   "name": "python",
   "codemirror_mode": {
    "name": "ipython",
    "version": 3
   },
   "version": "3.7.5-final"
  },
  "orig_nbformat": 2,
  "file_extension": ".py",
  "mimetype": "text/x-python",
  "name": "python",
  "npconvert_exporter": "python",
  "pygments_lexer": "ipython3",
  "version": 3,
  "kernelspec": {
   "name": "python37564bitbaseconda1c7e1d8b344e40999f77e8157402705c",
   "display_name": "Python 3.7.5 64-bit ('base': conda)"
  }
 },
 "cells": [
  {
   "cell_type": "markdown",
   "metadata": {},
   "source": [
    "# Problem 2"
   ]
  },
  {
   "cell_type": "code",
   "execution_count": 1,
   "metadata": {},
   "outputs": [
    {
     "data": {
      "text/plain": "4613732"
     },
     "execution_count": 1,
     "metadata": {},
     "output_type": "execute_result"
    }
   ],
   "source": [
    "def solution(limit = 4000000):\n",
    "    s = 2\n",
    "    m = 1\n",
    "    n = 2\n",
    "    x = 0\n",
    "    while x <= limit:\n",
    "        x = m+n\n",
    "        if x%2 == 0:\n",
    "            s+=x\n",
    "        m = n\n",
    "        n = x\n",
    "    return s"
   ]
  },
  {
   "cell_type": "markdown",
   "metadata": {},
   "source": [
    "# Problem 3"
   ]
  },
  {
   "cell_type": "code",
   "execution_count": 63,
   "metadata": {},
   "outputs": [
    {
     "name": "stdout",
     "output_type": "stream",
     "text": "factor 71\nfactor 839\nfactor 1471\nfactor 6857\nlargest prime factor is: 6857\n"
    }
   ],
   "source": [
    "def is_prime(s):\n",
    "    mm = s-1\n",
    "    while mm > 1:\n",
    "        if s%mm == 0:\n",
    "            return False\n",
    "        mm -= 1\n",
    "    return True\n",
    "\n",
    "n = 1\n",
    "x = 600851475143\n",
    "while x != 1:\n",
    "    n+=1\n",
    "    while is_prime(n)==False:\n",
    "        n+=1\n",
    "    if x%n == 0:\n",
    "        x = x/n\n",
    "        print('factor',n)\n",
    "print(\"largest prime factor is: {}\".format(n))\n"
   ]
  },
  {
   "cell_type": "markdown",
   "metadata": {},
   "source": [
    "# Problem 4"
   ]
  },
  {
   "cell_type": "code",
   "execution_count": 42,
   "metadata": {},
   "outputs": [
    {
     "name": "stdout",
     "output_type": "stream",
     "text": "999 91 90909\n995 583 580085\n993 913 906609\n"
    }
   ],
   "source": [
    "x = 999\n",
    "y = 999\n",
    "largest = 0\n",
    "while x>499:\n",
    "    while y>1:\n",
    "        n = x*y\n",
    "        if str(n) == str(n)[::-1]:\n",
    "            if n>largest:\n",
    "                largest = n\n",
    "                print(x,y,largest)\n",
    "            break\n",
    "        y-=1\n",
    "    y=999\n",
    "    x-=1"
   ]
  },
  {
   "cell_type": "markdown",
   "metadata": {},
   "source": [
    "# Problem 5"
   ]
  },
  {
   "cell_type": "code",
   "execution_count": 56,
   "metadata": {},
   "outputs": [],
   "source": [
    "def not_evenly_divisible_20(x):\n",
    "    if sum(x%y for y in [20,19,18,17,16,15,14,13,11])==0:\n",
    "        return False\n",
    "    return True"
   ]
  },
  {
   "cell_type": "code",
   "execution_count": 57,
   "metadata": {},
   "outputs": [
    {
     "data": {
      "text/plain": "232792560"
     },
     "execution_count": 57,
     "metadata": {},
     "output_type": "execute_result"
    }
   ],
   "source": [
    "x = 2520\n",
    "while not_evenly_divisible_20(x):\n",
    "    x+=20\n",
    "x"
   ]
  },
  {
   "cell_type": "markdown",
   "metadata": {},
   "source": [
    "# Problem 6"
   ]
  },
  {
   "cell_type": "code",
   "execution_count": 62,
   "metadata": {},
   "outputs": [
    {
     "data": {
      "text/plain": "25164150"
     },
     "execution_count": 62,
     "metadata": {},
     "output_type": "execute_result"
    }
   ],
   "source": [
    "sum([x for x in range(1,101)])**2 - sum([x**2 for x in range(1, 101)])"
   ]
  },
  {
   "cell_type": "markdown",
   "metadata": {},
   "source": [
    "# Problem 7"
   ]
  },
  {
   "cell_type": "code",
   "execution_count": 71,
   "metadata": {},
   "outputs": [
    {
     "name": "stdout",
     "output_type": "stream",
     "text": "7919 1000\n17389 2000\n27449 3000\n37813 4000\n48611 5000\n59359 6000\n70657 7000\n81799 8000\n93179 9000\n104729 10000\n"
    },
    {
     "data": {
      "text/plain": "(104743, 10001)"
     },
     "execution_count": 71,
     "metadata": {},
     "output_type": "execute_result"
    }
   ],
   "source": [
    "i = 1\n",
    "x = 2\n",
    "while i != 10001:\n",
    "    x+=1\n",
    "    if str(x)[-1] in ['2', '4', '6', '8', '0']:\n",
    "        continue\n",
    "    else: \n",
    "        if is_prime(x):\n",
    "            i+=1\n",
    "            if i % 1000 == 0:\n",
    "                print(x,i)\n",
    "x, i"
   ]
  },
  {
   "cell_type": "code",
   "execution_count": 98,
   "metadata": {},
   "outputs": [
    {
     "output_type": "execute_result",
     "data": {
      "text/plain": "104743"
     },
     "metadata": {},
     "execution_count": 98
    }
   ],
   "source": [
    "def get_nth_prime(n):\n",
    "    \"\"\"\n",
    "    The point here is: if a number `x` can't be evenly divided by any prime numbers that's smaller than `x`, then `x` is prime.\n",
    "    \"\"\"\n",
    "    prime_list = [2] # initiate the list with the first prime number\n",
    "    x = 3\n",
    "    while len(prime_list) < n:\n",
    "        prime = True\n",
    "        for i in prime_list:\n",
    "            if x % i == 0:\n",
    "                prime = False\n",
    "                x += 2 # even numbers>2 can't be prime\n",
    "                break # we don't want to waste time checking the rest\n",
    "        if prime:\n",
    "            prime_list.append(x)\n",
    "            x += 2\n",
    "    return prime_list\n",
    "\n",
    "get_nth_prime(10001)[-1]"
   ]
  },
  {
   "cell_type": "code",
   "execution_count": 89,
   "metadata": {},
   "outputs": [
    {
     "data": {
      "text/plain": "104743"
     },
     "execution_count": 89,
     "metadata": {},
     "output_type": "execute_result"
    }
   ],
   "source": [
    "def get_n_prime(limit):\n",
    "    p_no = [2,3]\n",
    "    i = 3\n",
    "    n = p_no[-1] + 2\n",
    "    while len(p_no) <= limit:\n",
    "        prime = True\n",
    "        for i in p_no:\n",
    "            if n % i == 0:\n",
    "                prime = False\n",
    "                break\n",
    "        if prime: p_no.append(n)\n",
    "        n += 2\n",
    "    return p_no[-1]\n",
    "\n",
    "get_n_prime(10000)\n"
   ]
  },
  {
   "cell_type": "code",
   "execution_count": 14,
   "metadata": {},
   "outputs": [
    {
     "output_type": "error",
     "ename": "SyntaxError",
     "evalue": "unexpected EOF while parsing (<ipython-input-14-997dcc5f6561>, line 2)",
     "traceback": [
      "\u001b[0;36m  File \u001b[0;32m\"<ipython-input-14-997dcc5f6561>\"\u001b[0;36m, line \u001b[0;32m2\u001b[0m\n\u001b[0;31m    \u001b[0m\n\u001b[0m    ^\u001b[0m\n\u001b[0;31mSyntaxError\u001b[0m\u001b[0;31m:\u001b[0m unexpected EOF while parsing\n"
     ]
    }
   ],
   "source": [
    "def str_prod(x):\n",
    "    "
   ]
  },
  {
   "cell_type": "code",
   "execution_count": 58,
   "metadata": {},
   "outputs": [
    {
     "output_type": "execute_result",
     "data": {
      "text/plain": "(23514624000, '5576689664895')"
     },
     "metadata": {},
     "execution_count": 58
    }
   ],
   "source": [
    "n=\"\"\"73167176531330624919225119674426574742355349194934\n",
    "96983520312774506326239578318016984801869478851843\n",
    "85861560789112949495459501737958331952853208805511\n",
    "12540698747158523863050715693290963295227443043557\n",
    "66896648950445244523161731856403098711121722383113\n",
    "62229893423380308135336276614282806444486645238749\n",
    "30358907296290491560440772390713810515859307960866\n",
    "70172427121883998797908792274921901699720888093776\n",
    "65727333001053367881220235421809751254540594752243\n",
    "52584907711670556013604839586446706324415722155397\n",
    "53697817977846174064955149290862569321978468622482\n",
    "83972241375657056057490261407972968652414535100474\n",
    "82166370484403199890008895243450658541227588666881\n",
    "16427171479924442928230863465674813919123162824586\n",
    "17866458359124566529476545682848912883142607690042\n",
    "24219022671055626321111109370544217506941658960408\n",
    "07198403850962455444362981230987879927244284909188\n",
    "84580156166097919133875499200524063689912560717606\n",
    "05886116467109405077541002256983155200055935729725\n",
    "71636269561882670428252483600823257530420752963450\n",
    "\"\"\"\n",
    "\n",
    "n = n.replace('\\n', '')\n",
    "n_proc = [x for x in n.split('0') if len(x) >=13]\n",
    "\n",
    "p_max = 0\n",
    "record = ''\n",
    "for x in n_proc:\n",
    "    \n",
    "    for i in range(len(x)-12):\n",
    "        slis = x[i: i+13]\n",
    "        p = 1\n",
    "        for e in slis:\n",
    "            p *= int(e)\n",
    "        if p > p_max:\n",
    "            p_max,record = p,slis \n",
    "            \n",
    "p_max, record"
   ]
  },
  {
   "cell_type": "code",
   "execution_count": 42,
   "metadata": {},
   "outputs": [
    {
     "output_type": "execute_result",
     "data": {
      "text/plain": "(23514624000, '5576689664895')"
     },
     "metadata": {},
     "execution_count": 42
    }
   ],
   "source": [
    "n = n.replace('\\n', '')\n",
    "p_max = 0\n",
    "record = ''\n",
    "for i in range(len(n)-13-1):\n",
    "    slis = n[i: i+13]\n",
    "    p = 1\n",
    "    for x in slis:\n",
    "        p *= int(x)\n",
    "    if p > p_max:\n",
    "        p_max,record = p,slis \n",
    "p_max, record"
   ]
  },
  {
   "cell_type": "code",
   "execution_count": 45,
   "metadata": {},
   "outputs": [
    {
     "output_type": "execute_result",
     "data": {
      "text/plain": "[False,\n False,\n False,\n False,\n False,\n False,\n False,\n True,\n False,\n False,\n False,\n False,\n False,\n False,\n False,\n False,\n False,\n False,\n False,\n False,\n False,\n False,\n False,\n False]"
     },
     "metadata": {},
     "execution_count": 45
    }
   ],
   "source": [
    "[record in x for x in n_proc]"
   ]
  },
  {
   "cell_type": "code",
   "execution_count": null,
   "metadata": {},
   "outputs": [],
   "source": []
  },
  {
   "cell_type": "code",
   "execution_count": 6,
   "metadata": {},
   "outputs": [
    {
     "output_type": "error",
     "ename": "SyntaxError",
     "evalue": "unexpected EOF while parsing (<ipython-input-6-131c23c69744>, line 3)",
     "traceback": [
      "\u001b[0;36m  File \u001b[0;32m\"<ipython-input-6-131c23c69744>\"\u001b[0;36m, line \u001b[0;32m3\u001b[0m\n\u001b[0;31m    \u001b[0m\n\u001b[0m    ^\u001b[0m\n\u001b[0;31mSyntaxError\u001b[0m\u001b[0;31m:\u001b[0m unexpected EOF while parsing\n"
     ]
    }
   ],
   "source": []
  },
  {
   "cell_type": "code",
   "execution_count": null,
   "metadata": {},
   "outputs": [],
   "source": []
  },
  {
   "cell_type": "code",
   "execution_count": null,
   "metadata": {},
   "outputs": [],
   "source": []
  },
  {
   "cell_type": "code",
   "execution_count": null,
   "metadata": {},
   "outputs": [],
   "source": []
  }
 ]
}