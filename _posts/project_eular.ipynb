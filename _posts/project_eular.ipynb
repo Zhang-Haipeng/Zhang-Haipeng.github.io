{
 "nbformat": 4,
 "nbformat_minor": 2,
 "metadata": {
  "language_info": {
   "name": "python",
   "codemirror_mode": {
    "name": "ipython",
    "version": 3
   },
   "version": "3.7.5-final"
  },
  "orig_nbformat": 2,
  "file_extension": ".py",
  "mimetype": "text/x-python",
  "name": "python",
  "npconvert_exporter": "python",
  "pygments_lexer": "ipython3",
  "version": 3,
  "kernelspec": {
   "name": "python37564bitbaseconda1c7e1d8b344e40999f77e8157402705c",
   "display_name": "Python 3.7.5 64-bit ('base': conda)"
  }
 },
 "cells": [
  {
   "cell_type": "markdown",
   "metadata": {},
   "source": [
    "# Problem 2"
   ]
  },
  {
   "cell_type": "code",
   "execution_count": 1,
   "metadata": {},
   "outputs": [
    {
     "data": {
      "text/plain": "4613732"
     },
     "execution_count": 1,
     "metadata": {},
     "output_type": "execute_result"
    }
   ],
   "source": [
    "def solution(limit = 4000000):\n",
    "    s = 2\n",
    "    m = 1\n",
    "    n = 2\n",
    "    x = 0\n",
    "    while x <= limit:\n",
    "        x = m+n\n",
    "        if x%2 == 0:\n",
    "            s+=x\n",
    "        m = n\n",
    "        n = x\n",
    "    return s"
   ]
  },
  {
   "cell_type": "markdown",
   "metadata": {},
   "source": [
    "# Problem 3"
   ]
  },
  {
   "cell_type": "code",
   "execution_count": 63,
   "metadata": {},
   "outputs": [
    {
     "name": "stdout",
     "output_type": "stream",
     "text": "factor 71\nfactor 839\nfactor 1471\nfactor 6857\nlargest prime factor is: 6857\n"
    }
   ],
   "source": [
    "def is_prime(s):\n",
    "    mm = s-1\n",
    "    while mm > 1:\n",
    "        if s%mm == 0:\n",
    "            return False\n",
    "        mm -= 1\n",
    "    return True\n",
    "\n",
    "n = 1\n",
    "x = 600851475143\n",
    "while x != 1:\n",
    "    n+=1\n",
    "    while is_prime(n)==False:\n",
    "        n+=1\n",
    "    if x%n == 0:\n",
    "        x = x/n\n",
    "        print('factor',n)\n",
    "print(\"largest prime factor is: {}\".format(n))\n"
   ]
  },
  {
   "cell_type": "markdown",
   "metadata": {},
   "source": [
    "# Problem 4"
   ]
  },
  {
   "cell_type": "code",
   "execution_count": 42,
   "metadata": {},
   "outputs": [
    {
     "name": "stdout",
     "output_type": "stream",
     "text": "999 91 90909\n995 583 580085\n993 913 906609\n"
    }
   ],
   "source": [
    "x = 999\n",
    "y = 999\n",
    "largest = 0\n",
    "while x>499:\n",
    "    while y>1:\n",
    "        n = x*y\n",
    "        if str(n) == str(n)[::-1]:\n",
    "            if n>largest:\n",
    "                largest = n\n",
    "                print(x,y,largest)\n",
    "            break\n",
    "        y-=1\n",
    "    y=999\n",
    "    x-=1"
   ]
  },
  {
   "cell_type": "markdown",
   "metadata": {},
   "source": [
    "# Problem 5"
   ]
  },
  {
   "cell_type": "code",
   "execution_count": 56,
   "metadata": {},
   "outputs": [],
   "source": [
    "def not_evenly_divisible_20(x):\n",
    "    if sum(x%y for y in [20,19,18,17,16,15,14,13,11])==0:\n",
    "        return False\n",
    "    return True"
   ]
  },
  {
   "cell_type": "code",
   "execution_count": 57,
   "metadata": {},
   "outputs": [
    {
     "data": {
      "text/plain": "232792560"
     },
     "execution_count": 57,
     "metadata": {},
     "output_type": "execute_result"
    }
   ],
   "source": [
    "x = 2520\n",
    "while not_evenly_divisible_20(x):\n",
    "    x+=20\n",
    "x"
   ]
  },
  {
   "cell_type": "markdown",
   "metadata": {},
   "source": [
    "# Problem 6"
   ]
  },
  {
   "cell_type": "code",
   "execution_count": 62,
   "metadata": {},
   "outputs": [
    {
     "data": {
      "text/plain": "25164150"
     },
     "execution_count": 62,
     "metadata": {},
     "output_type": "execute_result"
    }
   ],
   "source": [
    "sum([x for x in range(1,101)])**2 - sum([x**2 for x in range(1, 101)])"
   ]
  },
  {
   "cell_type": "markdown",
   "metadata": {},
   "source": [
    "# Problem 7"
   ]
  },
  {
   "cell_type": "code",
   "execution_count": 71,
   "metadata": {},
   "outputs": [
    {
     "name": "stdout",
     "output_type": "stream",
     "text": "7919 1000\n17389 2000\n27449 3000\n37813 4000\n48611 5000\n59359 6000\n70657 7000\n81799 8000\n93179 9000\n104729 10000\n"
    },
    {
     "data": {
      "text/plain": "(104743, 10001)"
     },
     "execution_count": 71,
     "metadata": {},
     "output_type": "execute_result"
    }
   ],
   "source": [
    "i = 1\n",
    "x = 2\n",
    "while i != 10001:\n",
    "    x+=1\n",
    "    if str(x)[-1] in ['2', '4', '6', '8', '0']:\n",
    "        continue\n",
    "    else: \n",
    "        if is_prime(x):\n",
    "            i+=1\n",
    "            if i % 1000 == 0:\n",
    "                print(x,i)\n",
    "x, i"
   ]
  },
  {
   "cell_type": "code",
   "execution_count": 69,
   "metadata": {},
   "outputs": [
    {
     "data": {
      "text/plain": "(2, 1)"
     },
     "execution_count": 69,
     "metadata": {},
     "output_type": "execute_result"
    }
   ],
   "source": [
    "x, i"
   ]
  },
  {
   "cell_type": "code",
   "execution_count": 94,
   "metadata": {},
   "outputs": [],
   "source": [
    "def get_nth_prime(n):\n",
    "    \"\"\"\n",
    "    The point here is: if a number x can't be evenly divided by any prime numbers that's smaller than x, then x is prime.\n",
    "    \"\"\"\n",
    "    prime_list = [2]\n",
    "    x = 3\n",
    "    while len(prime_list) < n:\n",
    "        prime = True\n",
    "        for i in prime_list:\n",
    "            if x % i == 0:\n",
    "                prime = False\n",
    "                x += 2 # because even numbers>2 can't be prime numbers\n",
    "                break # because we don't need to check the rest\n",
    "        if prime:\n",
    "            prime_list.append(x)\n",
    "            x += 2\n",
    "    return prime_list\n",
    "\n"
   ]
  },
  {
   "cell_type": "code",
   "execution_count": 96,
   "metadata": {},
   "outputs": [
    {
     "data": {
      "text/plain": "104743"
     },
     "execution_count": 96,
     "metadata": {},
     "output_type": "execute_result"
    }
   ],
   "source": [
    "get_nth_prime(10001)[-1]"
   ]
  },
  {
   "cell_type": "code",
   "execution_count": 89,
   "metadata": {},
   "outputs": [
    {
     "data": {
      "text/plain": "104743"
     },
     "execution_count": 89,
     "metadata": {},
     "output_type": "execute_result"
    }
   ],
   "source": [
    "def get_n_prime(limit):\n",
    "    p_no = [2,3]\n",
    "    i = 3\n",
    "    n = p_no[-1] + 2\n",
    "    while len(p_no) <= limit:\n",
    "        prime = True\n",
    "        for i in p_no:\n",
    "            if n % i == 0:\n",
    "                prime = False\n",
    "                break\n",
    "        if prime: p_no.append(n)\n",
    "        n += 2\n",
    "    return p_no[-1]\n",
    "\n",
    "get_n_prime(10000)\n"
   ]
  }
 ]
}