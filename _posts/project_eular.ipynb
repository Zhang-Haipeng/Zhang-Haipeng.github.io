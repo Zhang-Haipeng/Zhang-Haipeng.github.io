{
 "nbformat": 4,
 "nbformat_minor": 2,
 "metadata": {
  "language_info": {
   "name": "python",
   "codemirror_mode": {
    "name": "ipython",
    "version": 3
   },
   "version": "3.7.5-final"
  },
  "orig_nbformat": 2,
  "file_extension": ".py",
  "mimetype": "text/x-python",
  "name": "python",
  "npconvert_exporter": "python",
  "pygments_lexer": "ipython3",
  "version": 3,
  "kernelspec": {
   "name": "python37564bitbaseconda1c7e1d8b344e40999f77e8157402705c",
   "display_name": "Python 3.7.5 64-bit ('base': conda)"
  }
 },
 "cells": [
  {
   "cell_type": "markdown",
   "metadata": {},
   "source": [
    "# Problem 2"
   ]
  },
  {
   "cell_type": "code",
   "execution_count": 1,
   "metadata": {},
   "outputs": [
    {
     "data": {
      "text/plain": "4613732"
     },
     "execution_count": 1,
     "metadata": {},
     "output_type": "execute_result"
    }
   ],
   "source": [
    "def solution(limit = 4000000):\n",
    "    s = 2\n",
    "    m = 1\n",
    "    n = 2\n",
    "    x = 0\n",
    "    while x <= limit:\n",
    "        x = m+n\n",
    "        if x%2 == 0:\n",
    "            s+=x\n",
    "        m = n\n",
    "        n = x\n",
    "    return s"
   ]
  },
  {
   "cell_type": "markdown",
   "metadata": {},
   "source": [
    "# Problem 3"
   ]
  },
  {
   "cell_type": "code",
   "execution_count": null,
   "metadata": {},
   "outputs": [],
   "source": [
    "x = 600851475143\n",
    "m = x\n",
    "while True:\n",
    "    if x%m "
   ]
  },
  {
   "cell_type": "code",
   "execution_count": 2,
   "metadata": {},
   "outputs": [],
   "source": [
    "def is_prime(s):\n",
    "    mm = s-1\n",
    "    while mm > 1:\n",
    "        if s%mm == 0:\n",
    "            return False\n",
    "        mm -= 1\n",
    "    return True"
   ]
  },
  {
   "cell_type": "code",
   "execution_count": null,
   "metadata": {},
   "outputs": [],
   "source": []
  },
  {
   "cell_type": "code",
   "execution_count": 19,
   "metadata": {},
   "outputs": [
    {
     "name": "stdout",
     "output_type": "stream",
     "text": "factor 71\nfactor 839\nfactor 1471\nfactor 6857\n"
    }
   ],
   "source": [
    "def is_prime(s):\n",
    "    mm = s-1\n",
    "    while mm > 1:\n",
    "        if s%mm == 0:\n",
    "            return False\n",
    "        mm -= 1\n",
    "    return True\n",
    "\n",
    "n = 1\n",
    "x = 600851475143\n",
    "while x != 1:\n",
    "    n+=1\n",
    "    while is_prime(n)==False:\n",
    "        n+=1\n",
    "    if x%n == 0:\n",
    "        x = x/n\n",
    "        print('factor',n)\n"
   ]
  },
  {
   "cell_type": "code",
   "execution_count": 20,
   "metadata": {},
   "outputs": [
    {
     "data": {
      "text/plain": "600851475143"
     },
     "execution_count": 20,
     "metadata": {},
     "output_type": "execute_result"
    }
   ],
   "source": [
    "71*839*1471*6857"
   ]
  },
  {
   "cell_type": "code",
   "execution_count": null,
   "metadata": {},
   "outputs": [],
   "source": []
  }
 ]
}